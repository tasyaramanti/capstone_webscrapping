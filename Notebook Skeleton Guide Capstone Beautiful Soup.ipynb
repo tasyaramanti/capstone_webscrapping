{
 "cells": [
  {
   "cell_type": "markdown",
   "metadata": {},
   "source": [
    "# Capstone Webscrapping using BeautifulSoup\n",
    "\n",
    "This notebook contains guidances & tasks on the data processing for the application\n",
    "\n",
    "## background\n",
    "\n",
    "At this project we try to scrap historical exchange rates between IDR and USD for period between 1/12/2022 and 7/11/2022 from https://www.exchange-rates.org/ website. exchange-rates.org is a website which provide world currency exchange rates and currency exchange rate history.\n",
    "\n",
    "In this case, Let's say we have task to make a forecast on USD exchange rate to IDR. To do that we need to have the data, and scrapping is a good way to collect the data we don't have from public. \n",
    "\n",
    "We will scrap 2 points from this sites. One is daily exchange rate, or the exchange rate from 1 USD to IDR in a certain date. The other one is the date. \n",
    "\n",
    "## Requesting the Data and Creating a BeautifulSoup\n",
    "\n",
    "Let's begin with requesting the web from the site with `get` method."
   ]
  },
  {
   "cell_type": "code",
   "execution_count": 1,
   "metadata": {
    "ExecuteTime": {
     "end_time": "2020-01-13T05:12:23.275508Z",
     "start_time": "2020-01-13T05:12:20.009898Z"
    }
   },
   "outputs": [],
   "source": [
    "import requests\n",
    "\n",
    "url_get = requests.get('https://www.exchange-rates.org/history/IDR/USD/T')"
   ]
  },
  {
   "cell_type": "markdown",
   "metadata": {},
   "source": [
    "To visualize what exactly you get from the `request.get`, we can use .content so ee what we exactly get, in here i slice it so it won't make our screen full of the html we get from the page. You can delete the slicing if you want to see what we fully get."
   ]
  },
  {
   "cell_type": "code",
   "execution_count": 2,
   "metadata": {
    "ExecuteTime": {
     "end_time": "2020-01-13T05:12:23.290648Z",
     "start_time": "2020-01-13T05:12:23.277650Z"
    }
   },
   "outputs": [
    {
     "data": {
      "text/plain": [
       "b'!DOCTYPE html>\\r\\n<!--[if lt IE 9]>\\r\\n<html class=\"no-js ie8 oldie\" lang=\"en\" xml:lang=\\'en\\'>\\r\\n<![endif]-->\\r\\n<!--[if gt IE 8]><!--><html class=\"no-js\" lang=\"en\" xml:lang=\\'en\\'><!--<![endif]-->\\r\\n<head>\\r\\n<title>Indonesian Rupiah Exchange Rate - US Dollar - Historical Exchange Rates</title>\\r\\n<meta http-equiv=\"X-UA-Compatible\" content=\"IE=edge\">\\r\\n<meta name=\"viewport\" content=\"width=device-width, initial-scale=1, maximum-scale=5\">\\r\\n<meta charset=\"utf-8\" /><meta http-equiv=\"Content-Type\" content=\"text/ht'"
      ]
     },
     "execution_count": 2,
     "metadata": {},
     "output_type": "execute_result"
    }
   ],
   "source": [
    "url_get.content[1:500]"
   ]
  },
  {
   "cell_type": "markdown",
   "metadata": {},
   "source": [
    "As we can see we get a very unstructured and complex html, which actually contains the codes needed to show the webpages on your web browser. But we as human still confused what and where we can use that piece of code, so here where we use the beautifulsoup. Beautiful soup class will result a beautifulsoup object. Beautiful Soup transforms a complex HTML document into a complex tree of Python objects. \n",
    "\n",
    "Let's make Beautiful soup object and feel free to explore the object here."
   ]
  },
  {
   "cell_type": "code",
   "execution_count": 3,
   "metadata": {
    "ExecuteTime": {
     "end_time": "2020-01-13T05:12:23.808122Z",
     "start_time": "2020-01-13T05:12:23.292610Z"
    }
   },
   "outputs": [],
   "source": [
    "from bs4 import BeautifulSoup \n",
    "\n",
    "soup = BeautifulSoup(url_get.content,\"html.parser\")"
   ]
  },
  {
   "cell_type": "code",
   "execution_count": 4,
   "metadata": {},
   "outputs": [
    {
     "name": "stdout",
     "output_type": "stream",
     "text": [
      "<!DOCTYPE html>\n",
      "<!--[if lt IE 9]>\r\n",
      "<html class=\"no-js ie8 oldie\" lang=\"en\" xml:lang='en'>\r\n",
      "<![endif]-->\n",
      "<!--[if gt IE 8]><!-->\n",
      "<html class=\"no-js\" lang=\"en\" xml:lang=\"en\">\n",
      " <!--<![endif]-->\n",
      " <head>\n",
      "  <title>\n",
      "   Indonesian Rupiah Exchange Rate - US Dollar - Historical Exchange Rates\n",
      "  </title>\n",
      "  <meta content=\"IE=edge\" http-equiv=\"X-UA-Compatible\"/>\n",
      "  <meta content=\"width=device-width, initial-scale=1, maximum-scale=5\" name=\"viewport\"/>\n",
      "  <meta charset=\"utf-8\">\n",
      "   <meta content=\"text/html; charse\n"
     ]
    }
   ],
   "source": [
    "print(soup.prettify()[:500])"
   ]
  },
  {
   "cell_type": "markdown",
   "metadata": {},
   "source": [
    "## Finding the right key to scrap the data & Extracting the right information"
   ]
  },
  {
   "cell_type": "markdown",
   "metadata": {},
   "source": [
    "- based on the html the key for the table using div with class table-responsive\n",
    "- here I use find to define the table with 'div class = table-responsive'"
   ]
  },
  {
   "cell_type": "code",
   "execution_count": 5,
   "metadata": {
    "ExecuteTime": {
     "end_time": "2020-01-13T05:12:23.878904Z",
     "start_time": "2020-01-13T05:12:23.854974Z"
    }
   },
   "outputs": [
    {
     "name": "stdout",
     "output_type": "stream",
     "text": [
      "div class=\"table-responsive\">\n",
      " <table class=\"table table-striped table-hover table-hover-solid-row table-simple history-data\">\n",
      "  <tbody>\n",
      "   <tr>\n",
      "    <td>\n",
      "     7/11/2022\n",
      "    </td>\n",
      "    <td>\n",
      "     Monday\n",
      "    </td>\n",
      "    <td>\n",
      "     <a href=\"/Rate/USD/IDR/7-11-2022\">\n",
      "      15,010.52059\n",
      "     </a>\n",
      "     IDR\n",
      "    </td>\n",
      "    <td class=\"text-narrow-screen-hidden\">\n",
      "     <a href=\"/Rate/USD/IDR/7-11-2022\">\n",
      "      USD IDR rate for 7/11/2022\n",
      "     </a>\n",
      "    </td>\n",
      "   </tr>\n",
      "   <tr>\n",
      "    <td>\n",
      "     7/8/2022\n",
      "    </td>\n",
      "    <t\n"
     ]
    }
   ],
   "source": [
    "table = soup.find('div', attrs={'class':'table-responsive'})\n",
    "print(table.prettify()[1:500])"
   ]
  },
  {
   "cell_type": "markdown",
   "metadata": {},
   "source": [
    "Based on the result above, we can see that every row is shown with tr,\n",
    "that's why to fine the row lenght we just need to find all tr"
   ]
  },
  {
   "cell_type": "code",
   "execution_count": 107,
   "metadata": {},
   "outputs": [
    {
     "data": {
      "text/plain": [
       "129"
      ]
     },
     "execution_count": 107,
     "metadata": {},
     "output_type": "execute_result"
    }
   ],
   "source": [
    "# Finding row length.\n",
    "row = table.find_all('tr')\n",
    "row_length = len(row)\n",
    "row_length"
   ]
  },
  {
   "cell_type": "markdown",
   "metadata": {},
   "source": [
    "Then, let's o the scrapping process here:\n",
    "- get a column for date (tanggal)\n",
    "- get a clumn for daily rate (kurs_harian)\n",
    "- hasil list akan terbalik (dari tanggal terbaru ke tanggal paling lama) sehingga perlu dibalik menggunakan ::1"
   ]
  },
  {
   "cell_type": "code",
   "execution_count": 147,
   "metadata": {
    "ExecuteTime": {
     "end_time": "2020-01-13T05:12:24.008256Z",
     "start_time": "2020-01-13T05:12:23.980358Z"
    }
   },
   "outputs": [
    {
     "data": {
      "text/plain": [
       "[('1/12/2022', '14,298.95000'),\n",
       " ('1/13/2022', '14,309.00000'),\n",
       " ('1/14/2022', '14,314.55000'),\n",
       " ('1/17/2022', '14,331.25000'),\n",
       " ('1/18/2022', '14,358.70000'),\n",
       " ('1/19/2022', '14,362.85000'),\n",
       " ('1/20/2022', '14,327.60000'),\n",
       " ('1/21/2022', '14,329.75000'),\n",
       " ('1/24/2022', '14,350.70000'),\n",
       " ('1/25/2022', '14,330.55000'),\n",
       " ('1/26/2022', '14,366.45000'),\n",
       " ('1/27/2022', '14,395.00000'),\n",
       " ('1/28/2022', '14,383.40000'),\n",
       " ('1/31/2022', '14,339.40000'),\n",
       " ('2/1/2022', '14,328.30000'),\n",
       " ('2/2/2022', '14,355.35000'),\n",
       " ('2/3/2022', '14,387.00000'),\n",
       " ('2/4/2022', '14,400.70000'),\n",
       " ('2/7/2022', '14,394.90000'),\n",
       " ('2/8/2022', '14,386.75000'),\n",
       " ('2/9/2022', '14,334.30000'),\n",
       " ('2/10/2022', '14,357.00000'),\n",
       " ('2/11/2022', '14,344.75000'),\n",
       " ('2/14/2022', '14,303.45000'),\n",
       " ('2/15/2022', '14,265.45000'),\n",
       " ('2/16/2022', '14,274.45000'),\n",
       " ('2/17/2022', '14,357.40000'),\n",
       " ('2/18/2022', '14,366.90000'),\n",
       " ('2/21/2022', '14,354.80000'),\n",
       " ('2/22/2022', '14,380.20000'),\n",
       " ('2/23/2022', '14,351.75000'),\n",
       " ('2/24/2022', '14,421.45000'),\n",
       " ('2/25/2022', '14,334.25000'),\n",
       " ('2/28/2022', '14,367.90938'),\n",
       " ('3/1/2022', '14,429.84376'),\n",
       " ('3/2/2022', '14,391.50000'),\n",
       " ('3/3/2022', '14,359.40000'),\n",
       " ('3/4/2022', '14,383.20000'),\n",
       " ('3/7/2022', '14,407.40000'),\n",
       " ('3/8/2022', '14,363.70000'),\n",
       " ('3/9/2022', '14,257.95000'),\n",
       " ('3/10/2022', '14,280.00000'),\n",
       " ('3/11/2022', '14,327.00000'),\n",
       " ('3/14/2022', '14,351.50000'),\n",
       " ('3/15/2022', '14,312.00000'),\n",
       " ('3/16/2022', '14,267.50000'),\n",
       " ('3/17/2022', '14,330.50000'),\n",
       " ('3/18/2022', '14,342.35000'),\n",
       " ('3/21/2022', '14,341.95000'),\n",
       " ('3/22/2022', '14,350.50000'),\n",
       " ('3/23/2022', '14,381.05000'),\n",
       " ('3/24/2022', '14,362.10000'),\n",
       " ('3/25/2022', '14,357.40000'),\n",
       " ('3/28/2022', '14,363.90000'),\n",
       " ('3/29/2022', '14,347.50000'),\n",
       " ('3/30/2022', '14,330.50000'),\n",
       " ('3/31/2022', '14,348.05000'),\n",
       " ('4/1/2022', '14,371.45000'),\n",
       " ('4/4/2022', '14,328.90000'),\n",
       " ('4/5/2022', '14,368.50000'),\n",
       " ('4/6/2022', '14,380.95000'),\n",
       " ('4/7/2022', '14,374.45000'),\n",
       " ('4/8/2022', '14,370.65000'),\n",
       " ('4/11/2022', '14,373.00000'),\n",
       " ('4/12/2022', '14,376.50000'),\n",
       " ('4/13/2022', '14,372.00000'),\n",
       " ('4/14/2022', '14,383.95000'),\n",
       " ('4/15/2022', '14,366.76704'),\n",
       " ('4/18/2022', '14,353.85000'),\n",
       " ('4/19/2022', '14,375.50000'),\n",
       " ('4/20/2022', '14,364.00000'),\n",
       " ('4/21/2022', '14,386.00000'),\n",
       " ('4/22/2022', '14,470.00000'),\n",
       " ('4/25/2022', '14,426.50000'),\n",
       " ('4/26/2022', '14,432.50000'),\n",
       " ('4/27/2022', '14,447.55000'),\n",
       " ('4/28/2022', '14,516.00000'),\n",
       " ('4/29/2022', '14,525.10000'),\n",
       " ('5/2/2022', '14,526.60000'),\n",
       " ('5/3/2022', '14,455.80000'),\n",
       " ('5/4/2022', '14,430.00000'),\n",
       " ('5/5/2022', '14,458.75000'),\n",
       " ('5/6/2022', '14,498.65000'),\n",
       " ('5/9/2022', '14,552.25000'),\n",
       " ('5/10/2022', '14,526.40000'),\n",
       " ('5/11/2022', '14,545.90000'),\n",
       " ('5/12/2022', '14,667.00000'),\n",
       " ('5/13/2022', '14,665.95000'),\n",
       " ('5/16/2022', '14,647.20000'),\n",
       " ('5/17/2022', '14,630.65000'),\n",
       " ('5/18/2022', '14,740.05000'),\n",
       " ('5/19/2022', '14,632.60000'),\n",
       " ('5/20/2022', '14,672.44395'),\n",
       " ('5/23/2022', '14,625.70000'),\n",
       " ('5/24/2022', '14,635.75000'),\n",
       " ('5/25/2022', '14,632.75000'),\n",
       " ('5/26/2022', '14,610.10000'),\n",
       " ('5/27/2022', '14,539.40000'),\n",
       " ('5/30/2022', '14,538.55000'),\n",
       " ('5/31/2022', '14,580.63428'),\n",
       " ('6/1/2022', '14,555.60000'),\n",
       " ('6/2/2022', '14,435.00000'),\n",
       " ('6/3/2022', '14,433.50000'),\n",
       " ('6/6/2022', '14,437.70000'),\n",
       " ('6/7/2022', '14,465.30000'),\n",
       " ('6/8/2022', '14,513.20000'),\n",
       " ('6/9/2022', '14,611.85000'),\n",
       " ('6/10/2022', '14,614.95000'),\n",
       " ('6/13/2022', '14,782.80000'),\n",
       " ('6/14/2022', '14,764.20000'),\n",
       " ('6/15/2022', '14,695.10000'),\n",
       " ('6/16/2022', '14,809.20000'),\n",
       " ('6/17/2022', '14,838.85000'),\n",
       " ('6/20/2022', '14,827.75000'),\n",
       " ('6/21/2022', '14,833.60000'),\n",
       " ('6/22/2022', '14,833.90000'),\n",
       " ('6/23/2022', '14,848.80000'),\n",
       " ('6/24/2022', '14,829.50000'),\n",
       " ('6/27/2022', '14,807.70000'),\n",
       " ('6/28/2022', '14,852.35000'),\n",
       " ('6/29/2022', '14,868.90000'),\n",
       " ('6/30/2022', '14,928.80000'),\n",
       " ('7/1/2022', '14,975.15000'),\n",
       " ('7/4/2022', '14,994.55000'),\n",
       " ('7/5/2022', '15,014.65000'),\n",
       " ('7/6/2022', '14,996.82520'),\n",
       " ('7/7/2022', '14,964.65000'),\n",
       " ('7/8/2022', '14,976.95000'),\n",
       " ('7/11/2022', '15,010.52059')]"
      ]
     },
     "execution_count": 147,
     "metadata": {},
     "output_type": "execute_result"
    }
   ],
   "source": [
    "kurs = [] #initiating a tuple\n",
    "\n",
    "for i in range(row_length):\n",
    "    #to get date column\n",
    "    tanggal = table.find_all('tr')[i].find_all('td')[0].text\n",
    "    \n",
    "    #to get the exchange rate amount without additional text\n",
    "    kurs_harian = table.find_all('tr')[i].find_all('td')[2].text[:-4]\n",
    "    \n",
    "    kurs.append((tanggal, kurs_harian)) \n",
    "    #scrapping process\n",
    "    \n",
    "kurs = kurs[::-1]\n",
    "kurs"
   ]
  },
  {
   "cell_type": "markdown",
   "metadata": {},
   "source": [
    "## Creating data frame & Data wrangling"
   ]
  },
  {
   "cell_type": "markdown",
   "metadata": {},
   "source": [
    "Put the array into dataframe"
   ]
  },
  {
   "cell_type": "code",
   "execution_count": 112,
   "metadata": {
    "ExecuteTime": {
     "end_time": "2020-01-13T05:12:41.517372Z",
     "start_time": "2020-01-13T05:12:29.130015Z"
    }
   },
   "outputs": [
    {
     "data": {
      "text/html": [
       "<div>\n",
       "<style scoped>\n",
       "    .dataframe tbody tr th:only-of-type {\n",
       "        vertical-align: middle;\n",
       "    }\n",
       "\n",
       "    .dataframe tbody tr th {\n",
       "        vertical-align: top;\n",
       "    }\n",
       "\n",
       "    .dataframe thead th {\n",
       "        text-align: right;\n",
       "    }\n",
       "</style>\n",
       "<table border=\"1\" class=\"dataframe\">\n",
       "  <thead>\n",
       "    <tr style=\"text-align: right;\">\n",
       "      <th></th>\n",
       "      <th>tanggal</th>\n",
       "      <th>kurs_harian</th>\n",
       "    </tr>\n",
       "  </thead>\n",
       "  <tbody>\n",
       "    <tr>\n",
       "      <th>0</th>\n",
       "      <td>1/12/2022</td>\n",
       "      <td>14,298.95000</td>\n",
       "    </tr>\n",
       "    <tr>\n",
       "      <th>1</th>\n",
       "      <td>1/13/2022</td>\n",
       "      <td>14,309.00000</td>\n",
       "    </tr>\n",
       "    <tr>\n",
       "      <th>2</th>\n",
       "      <td>1/14/2022</td>\n",
       "      <td>14,314.55000</td>\n",
       "    </tr>\n",
       "    <tr>\n",
       "      <th>3</th>\n",
       "      <td>1/17/2022</td>\n",
       "      <td>14,331.25000</td>\n",
       "    </tr>\n",
       "    <tr>\n",
       "      <th>4</th>\n",
       "      <td>1/18/2022</td>\n",
       "      <td>14,358.70000</td>\n",
       "    </tr>\n",
       "  </tbody>\n",
       "</table>\n",
       "</div>"
      ],
      "text/plain": [
       "     tanggal   kurs_harian\n",
       "0  1/12/2022  14,298.95000\n",
       "1  1/13/2022  14,309.00000\n",
       "2  1/14/2022  14,314.55000\n",
       "3  1/17/2022  14,331.25000\n",
       "4  1/18/2022  14,358.70000"
      ]
     },
     "execution_count": 112,
     "metadata": {},
     "output_type": "execute_result"
    }
   ],
   "source": [
    "import pandas as pd\n",
    "\n",
    "df = pd.DataFrame(kurs, columns = ('tanggal', 'kurs_harian'))\n",
    "df.head()"
   ]
  },
  {
   "cell_type": "markdown",
   "metadata": {},
   "source": [
    "Do the data cleaning here:\n",
    "- change datatype of date column to datetime\n",
    "- remove comma in string or kurs_harian, then change the data type to float"
   ]
  },
  {
   "cell_type": "code",
   "execution_count": 117,
   "metadata": {
    "ExecuteTime": {
     "end_time": "2020-01-13T05:12:59.165559Z",
     "start_time": "2020-01-13T05:12:58.910012Z"
    }
   },
   "outputs": [
    {
     "data": {
      "text/html": [
       "<div>\n",
       "<style scoped>\n",
       "    .dataframe tbody tr th:only-of-type {\n",
       "        vertical-align: middle;\n",
       "    }\n",
       "\n",
       "    .dataframe tbody tr th {\n",
       "        vertical-align: top;\n",
       "    }\n",
       "\n",
       "    .dataframe thead th {\n",
       "        text-align: right;\n",
       "    }\n",
       "</style>\n",
       "<table border=\"1\" class=\"dataframe\">\n",
       "  <thead>\n",
       "    <tr style=\"text-align: right;\">\n",
       "      <th></th>\n",
       "      <th>tanggal</th>\n",
       "      <th>kurs_harian</th>\n",
       "    </tr>\n",
       "  </thead>\n",
       "  <tbody>\n",
       "    <tr>\n",
       "      <th>0</th>\n",
       "      <td>2022-01-12</td>\n",
       "      <td>14298.95</td>\n",
       "    </tr>\n",
       "    <tr>\n",
       "      <th>1</th>\n",
       "      <td>2022-01-13</td>\n",
       "      <td>14309.00</td>\n",
       "    </tr>\n",
       "    <tr>\n",
       "      <th>2</th>\n",
       "      <td>2022-01-14</td>\n",
       "      <td>14314.55</td>\n",
       "    </tr>\n",
       "    <tr>\n",
       "      <th>3</th>\n",
       "      <td>2022-01-17</td>\n",
       "      <td>14331.25</td>\n",
       "    </tr>\n",
       "    <tr>\n",
       "      <th>4</th>\n",
       "      <td>2022-01-18</td>\n",
       "      <td>14358.70</td>\n",
       "    </tr>\n",
       "  </tbody>\n",
       "</table>\n",
       "</div>"
      ],
      "text/plain": [
       "     tanggal  kurs_harian\n",
       "0 2022-01-12     14298.95\n",
       "1 2022-01-13     14309.00\n",
       "2 2022-01-14     14314.55\n",
       "3 2022-01-17     14331.25\n",
       "4 2022-01-18     14358.70"
      ]
     },
     "execution_count": 117,
     "metadata": {},
     "output_type": "execute_result"
    }
   ],
   "source": [
    "#change datatype of date column to datetime\n",
    "df['tanggal'] = df['tanggal'].astype('datetime64') \n",
    "\n",
    "#remove comma in string of exchange rate, then change the data type to float\n",
    "df['kurs_harian'] = df['kurs_harian'].str.replace(\",\",\"\").astype('float64')\n",
    "\n",
    "df.head()"
   ]
  },
  {
   "cell_type": "markdown",
   "metadata": {},
   "source": [
    "Let's check if we have used the right data type"
   ]
  },
  {
   "cell_type": "code",
   "execution_count": 118,
   "metadata": {},
   "outputs": [
    {
     "name": "stdout",
     "output_type": "stream",
     "text": [
      "<class 'pandas.core.frame.DataFrame'>\n",
      "RangeIndex: 129 entries, 0 to 128\n",
      "Data columns (total 2 columns):\n",
      " #   Column       Non-Null Count  Dtype         \n",
      "---  ------       --------------  -----         \n",
      " 0   tanggal      129 non-null    datetime64[ns]\n",
      " 1   kurs_harian  129 non-null    float64       \n",
      "dtypes: datetime64[ns](1), float64(1)\n",
      "memory usage: 2.1 KB\n"
     ]
    }
   ],
   "source": [
    "df.info()"
   ]
  },
  {
   "cell_type": "markdown",
   "metadata": {},
   "source": [
    "Data visualisation:\n",
    "- setting the tanggal column as index so it is easier to make visualization"
   ]
  },
  {
   "cell_type": "code",
   "execution_count": 120,
   "metadata": {},
   "outputs": [
    {
     "data": {
      "text/html": [
       "<div>\n",
       "<style scoped>\n",
       "    .dataframe tbody tr th:only-of-type {\n",
       "        vertical-align: middle;\n",
       "    }\n",
       "\n",
       "    .dataframe tbody tr th {\n",
       "        vertical-align: top;\n",
       "    }\n",
       "\n",
       "    .dataframe thead th {\n",
       "        text-align: right;\n",
       "    }\n",
       "</style>\n",
       "<table border=\"1\" class=\"dataframe\">\n",
       "  <thead>\n",
       "    <tr style=\"text-align: right;\">\n",
       "      <th></th>\n",
       "      <th>kurs_harian</th>\n",
       "    </tr>\n",
       "    <tr>\n",
       "      <th>tanggal</th>\n",
       "      <th></th>\n",
       "    </tr>\n",
       "  </thead>\n",
       "  <tbody>\n",
       "    <tr>\n",
       "      <th>2022-01-12</th>\n",
       "      <td>14298.95000</td>\n",
       "    </tr>\n",
       "    <tr>\n",
       "      <th>2022-01-13</th>\n",
       "      <td>14309.00000</td>\n",
       "    </tr>\n",
       "    <tr>\n",
       "      <th>2022-01-14</th>\n",
       "      <td>14314.55000</td>\n",
       "    </tr>\n",
       "    <tr>\n",
       "      <th>2022-01-17</th>\n",
       "      <td>14331.25000</td>\n",
       "    </tr>\n",
       "    <tr>\n",
       "      <th>2022-01-18</th>\n",
       "      <td>14358.70000</td>\n",
       "    </tr>\n",
       "    <tr>\n",
       "      <th>...</th>\n",
       "      <td>...</td>\n",
       "    </tr>\n",
       "    <tr>\n",
       "      <th>2022-07-05</th>\n",
       "      <td>15014.65000</td>\n",
       "    </tr>\n",
       "    <tr>\n",
       "      <th>2022-07-06</th>\n",
       "      <td>14996.82520</td>\n",
       "    </tr>\n",
       "    <tr>\n",
       "      <th>2022-07-07</th>\n",
       "      <td>14964.65000</td>\n",
       "    </tr>\n",
       "    <tr>\n",
       "      <th>2022-07-08</th>\n",
       "      <td>14976.95000</td>\n",
       "    </tr>\n",
       "    <tr>\n",
       "      <th>2022-07-11</th>\n",
       "      <td>15010.52059</td>\n",
       "    </tr>\n",
       "  </tbody>\n",
       "</table>\n",
       "<p>129 rows × 1 columns</p>\n",
       "</div>"
      ],
      "text/plain": [
       "            kurs_harian\n",
       "tanggal                \n",
       "2022-01-12  14298.95000\n",
       "2022-01-13  14309.00000\n",
       "2022-01-14  14314.55000\n",
       "2022-01-17  14331.25000\n",
       "2022-01-18  14358.70000\n",
       "...                 ...\n",
       "2022-07-05  15014.65000\n",
       "2022-07-06  14996.82520\n",
       "2022-07-07  14964.65000\n",
       "2022-07-08  14976.95000\n",
       "2022-07-11  15010.52059\n",
       "\n",
       "[129 rows x 1 columns]"
      ]
     },
     "execution_count": 120,
     "metadata": {},
     "output_type": "execute_result"
    }
   ],
   "source": [
    "#set date as index for visualization\n",
    "df = df.set_index('tanggal')\n",
    "df"
   ]
  },
  {
   "cell_type": "markdown",
   "metadata": {},
   "source": [
    "visualisasi sederhana pergerakan kurs"
   ]
  },
  {
   "cell_type": "code",
   "execution_count": 145,
   "metadata": {
    "ExecuteTime": {
     "end_time": "2020-01-13T05:20:56.208237Z",
     "start_time": "2020-01-13T05:20:56.076043Z"
    }
   },
   "outputs": [
    {
     "data": {
      "text/plain": [
       "<AxesSubplot:xlabel='tanggal'>"
      ]
     },
     "execution_count": 145,
     "metadata": {},
     "output_type": "execute_result"
    },
    {
     "data": {
      "image/png": "[encoded data removed]",
      "text/plain": [
       "<Figure size 720x360 with 1 Axes>"
      ]
     },
     "metadata": {
      "needs_background": "light"
     },
     "output_type": "display_data"
    }
   ],
   "source": [
    "df.plot()"
   ]
  },
  {
   "cell_type": "markdown",
   "metadata": {},
   "source": [
    "### Implementing your webscrapping to the flask dashboard\n",
    "\n",
    "- Copy paste all of your web scrapping process to the desired position on the `app.py`\n",
    "- Changing the title of the dasboard at `index.html`"
   ]
  },
  {
   "cell_type": "markdown",
   "metadata": {},
   "source": [
    "## Finishing This Notebook with Your Analysis and Conclusion\n",
    "\n",
    "First you can do start with making the data visualisation. "
   ]
  },
  {
   "cell_type": "code",
   "execution_count": 129,
   "metadata": {},
   "outputs": [],
   "source": [
    "import matplotlib\n",
    "from matplotlib import pyplot as plt"
   ]
  },
  {
   "cell_type": "code",
   "execution_count": 146,
   "metadata": {
    "ExecuteTime": {
     "end_time": "2020-01-13T05:20:56.208237Z",
     "start_time": "2020-01-13T05:20:56.076043Z"
    }
   },
   "outputs": [
    {
     "data": {
      "text/plain": [
       "Text(0, 0.5, 'Exchange Rate')"
      ]
     },
     "execution_count": 146,
     "metadata": {},
     "output_type": "execute_result"
    },
    {
     "data": {
      "image/png": "[encoded data removed]",
      "text/plain": [
       "<Figure size 720x360 with 1 Axes>"
      ]
     },
     "metadata": {
      "needs_background": "light"
     },
     "output_type": "display_data"
    }
   ],
   "source": [
    "plt.rcParams[\"figure.figsize\"] = [10, 5]\n",
    "plt.rcParams[\"figure.autolayout\"] = True\n",
    "\n",
    "plt.plot(df, color='green')\n",
    "\n",
    "plt.title('Daily Exchange Rate of 1 USD to IDR during 2022', fontsize=20)\n",
    "plt.xlabel('Month Date')\n",
    "plt.ylabel('Exchange Rate')"
   ]
  },
  {
   "cell_type": "markdown",
   "metadata": {},
   "source": [
    "Berdasarkan plot diatas, dapat kita lihat bahwa:\n",
    "- tren pergerakan exchange rate 1 USD ke IDR sejak januari 2022 ke juli 2022 cenderung naik.\n",
    "- namun terjadi penurunan yang signifikan di bulan Juni\n",
    "- exchange rate tertinggi ada di bulan Juli 2022\n",
    "- Dapat dikatakan bahwa rupiah melemah terhadap dolar"
   ]
  },
  {
   "cell_type": "markdown",
   "metadata": {},
   "source": [
    "### Extra Challange\n",
    "\n",
    "This will be not included to the scoring. \n",
    "\n",
    "- You can create additional analysis from the data.\n",
    "- Implement it to the dashboard with at `app.py` dan `index.html`."
   ]
  }
 ],
 "metadata": {
  "kernelspec": {
   "display_name": "caps_da",
   "language": "python",
   "name": "caps_da"
  },
  "language_info": {
   "codemirror_mode": {
    "name": "ipython",
    "version": 3
   },
   "file_extension": ".py",
   "mimetype": "text/x-python",
   "name": "python",
   "nbconvert_exporter": "python",
   "pygments_lexer": "ipython3",
   "version": "3.9.12"
  },
  "toc": {
   "base_numbering": 1,
   "nav_menu": {},
   "number_sections": true,
   "sideBar": true,
   "skip_h1_title": false,
   "title_cell": "Table of Contents",
   "title_sidebar": "Contents",
   "toc_cell": false,
   "toc_position": {},
   "toc_section_display": true,
   "toc_window_display": false
  }
 },
 "nbformat": 4,
 "nbformat_minor": 2
}
